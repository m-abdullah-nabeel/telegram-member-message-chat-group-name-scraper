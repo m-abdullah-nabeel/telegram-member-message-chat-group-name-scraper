{
 "cells": [
  {
   "cell_type": "code",
   "execution_count": 1,
   "id": "f170a09b-1603-47e4-ac47-152ab921fcfa",
   "metadata": {},
   "outputs": [],
   "source": [
    "from selenium import webdriver\n",
    "from selenium.webdriver.common.keys import Keys\n",
    "from selenium.webdriver.common.by import By\n",
    "import time\n",
    "import csv\n",
    "from selenium.webdriver.common.action_chains import ActionChains"
   ]
  },
  {
   "cell_type": "code",
   "execution_count": 2,
   "id": "9262b914-d09b-4844-829c-cf35be878441",
   "metadata": {},
   "outputs": [
    {
     "name": "stdin",
     "output_type": "stream",
     "text": [
      "url of the group to scrape messages https://web.telegram.org/k/#@freelancers_int\n",
      "type your phone number plus coountry code and + sign +923117039097\n"
     ]
    }
   ],
   "source": [
    "group_url = str(input(\"url of the group to scrape messages\"))\n",
    "phone = input(\"type your phone number plus coountry code and + sign\")\n",
    "# https://web.telegram.org/k/#@freelancers_int"
   ]
  },
  {
   "cell_type": "code",
   "execution_count": 7,
   "id": "270842c7-ed2f-4e82-8892-04aa56698c81",
   "metadata": {},
   "outputs": [
    {
     "name": "stderr",
     "output_type": "stream",
     "text": [
      "C:\\Users\\PC\\AppData\\Local\\Temp\\ipykernel_9600\\867614806.py:12: DeprecationWarning: use options instead of chrome_options\n",
      "  driver = webdriver.Chrome(chrome_options=options)\n"
     ]
    }
   ],
   "source": [
    "options = webdriver.ChromeOptions()\n",
    "# options.add_argument(\"--start-maximized\")\n",
    "# options.add_argument('--headless')\n",
    "options.add_argument('--disable-extensions')\n",
    "options.add_argument('--incognito')\n",
    "options.add_argument('--disable-gpu')\n",
    "options.add_argument('--log-level=3')\n",
    "# options.add_argument(f'user-agent={ua}')\n",
    "options.add_argument('--disable-notifications')\n",
    "options.add_argument('--disable-popup-blocking')\n",
    "\n",
    "driver = webdriver.Chrome(chrome_options=options)\n"
   ]
  },
  {
   "cell_type": "code",
   "execution_count": 8,
   "id": "b020f017-994d-4049-8af3-5c0694d07b44",
   "metadata": {},
   "outputs": [
    {
     "name": "stdout",
     "output_type": "stream",
     "text": [
      "Waiting\n"
     ]
    }
   ],
   "source": [
    "driver.get(\"https://web.telegram.org/k/\")\n",
    "print(\"Waiting\")\n",
    "time.sleep(5)"
   ]
  },
  {
   "cell_type": "code",
   "execution_count": 9,
   "id": "0873e1ad-c457-48e3-96c6-b6939e0d9a30",
   "metadata": {},
   "outputs": [
    {
     "name": "stdout",
     "output_type": "stream",
     "text": [
      "<selenium.webdriver.remote.webelement.WebElement (session=\"14f041d12033db28c05dfaa81ab3170a\", element=\"7dc29544-0ebb-48ff-afec-6366cc4773a0\")>\n",
      "Login\n"
     ]
    }
   ],
   "source": [
    "# click on login button\n",
    "login = driver.find_element(By.XPATH, '//div[@class=\"c-ripple\"]')\n",
    "print(login)\n",
    "print(\"Login\")\n",
    "login.click()\n",
    "time.sleep(5)"
   ]
  },
  {
   "cell_type": "code",
   "execution_count": 10,
   "id": "12be78e9-6592-4370-9fb9-1753df96c61f",
   "metadata": {},
   "outputs": [
    {
     "name": "stdout",
     "output_type": "stream",
     "text": [
      "Clicked\n",
      "Cleared\n",
      "Sending Key\n",
      "sent otp\n"
     ]
    }
   ],
   "source": [
    "# enter number\n",
    "number = driver.find_element(By.XPATH, '//*[@id=\"auth-pages\"]/div/div[2]/div[1]/div/div[3]/div[2]/div[1]')\n",
    "# print(number)\n",
    "# print(\"number\")\n",
    "time.sleep(2)\n",
    "number.click()\n",
    "print(\"Clicked\")\n",
    "time.sleep(2)\n",
    "\n",
    "for i in range(4):\n",
    "    number.send_keys(Keys.BACK_SPACE)\n",
    "print(\"Cleared\")\n",
    "number.send_keys(phone)\n",
    "print(\"Sending Key\")\n",
    "number.send_keys(Keys.ENTER)\n",
    "print(\"sent otp\")\n"
   ]
  },
  {
   "cell_type": "code",
   "execution_count": 11,
   "id": "73f562eb-6875-4566-99bc-9323e0c4a268",
   "metadata": {},
   "outputs": [
    {
     "name": "stdin",
     "output_type": "stream",
     "text": [
      "Write OTP recieved from your Mobile telegram app:  41601\n"
     ]
    },
    {
     "name": "stdout",
     "output_type": "stream",
     "text": [
      "41601\n"
     ]
    }
   ],
   "source": [
    "otp = input(\"Write OTP recieved from your Mobile telegram app: \")\n",
    "print(otp)"
   ]
  },
  {
   "cell_type": "code",
   "execution_count": 12,
   "id": "2b7aa9d6-56f4-476c-a531-56178bbbc787",
   "metadata": {},
   "outputs": [
    {
     "name": "stdout",
     "output_type": "stream",
     "text": [
      "<selenium.webdriver.remote.webelement.WebElement (session=\"14f041d12033db28c05dfaa81ab3170a\", element=\"cbda3853-7001-464c-ada7-07ba0a1ca7cf\")>\n",
      "otp_input\n",
      "done waiting\n"
     ]
    }
   ],
   "source": [
    "time.sleep(6)\n",
    "otp_input = driver.find_element(By.XPATH, '//*[@id=\"auth-pages\"]/div/div[2]/div[3]/div/div[3]/div/input')\n",
    "print(otp_input)\n",
    "print('otp_input')\n",
    "otp_input.click()\n",
    "otp_input.send_keys(otp)\n",
    "time.sleep(5)\n",
    "print('done waiting')"
   ]
  },
  {
   "cell_type": "markdown",
   "id": "915851cc-2880-4bbc-b3c0-7966e2e3d765",
   "metadata": {},
   "source": [
    "# Loggedin Successfully"
   ]
  },
  {
   "cell_type": "code",
   "execution_count": 13,
   "id": "9bc1b6ba-64e1-4dd1-8d67-a9526a4272d3",
   "metadata": {},
   "outputs": [],
   "source": [
    "# get driver to some group url\n",
    "driver.get(group_url)\n",
    "# driver.get(\"https://web.telegram.org/k/#@freelancers_int\")\n",
    "time.sleep(5)"
   ]
  },
  {
   "cell_type": "code",
   "execution_count": 14,
   "id": "3519ab09-60ad-4f21-b0f2-24092b3140a8",
   "metadata": {},
   "outputs": [
    {
     "name": "stdout",
     "output_type": "stream",
     "text": [
      "Opening open_info\n"
     ]
    }
   ],
   "source": [
    "open_info = driver.find_element(By.XPATH, \"//div[@class='user-title']\")\n",
    "time.sleep(2)\n",
    "open_info.click()\n",
    "time.sleep(1)\n",
    "print(\"Opening open_info\")"
   ]
  },
  {
   "cell_type": "code",
   "execution_count": 15,
   "id": "3e52b5fb-331b-46c8-919e-d42859f6deb1",
   "metadata": {},
   "outputs": [
    {
     "name": "stdout",
     "output_type": "stream",
     "text": [
      "blob:https://web.telegram.org/48a1fc19-c76b-4a48-9eda-04b5d6d918fd\n"
     ]
    },
    {
     "data": {
      "text/plain": [
       "True"
      ]
     },
     "execution_count": 15,
     "metadata": {},
     "output_type": "execute_result"
    }
   ],
   "source": [
    "group_photo = driver.find_element(By.XPATH, '//*[@id=\"column-right\"]/div/div/div[2]/div/div/div[1]/div[1]/div/img')\n",
    "print(group_photo.get_attribute(\"src\"))\n",
    "photo_url = group_photo.get_attribute(\"src\")\n",
    "driver.get_screenshot_as_file(\"group.png\")\n",
    "# group_photo.get_screenshot_as_file(\"group.png\")"
   ]
  },
  {
   "cell_type": "code",
   "execution_count": 16,
   "id": "7a1fe9d2-35b8-40cf-9bad-79d678e3abfc",
   "metadata": {},
   "outputs": [
    {
     "name": "stdout",
     "output_type": "stream",
     "text": [
      "Crypto Freelancers\n",
      "freelancers_int\n"
     ]
    }
   ],
   "source": [
    "group_name = driver.find_element(By.XPATH, '//*[@id=\"column-right\"]/div/div/div[2]/div/div/div[1]/div[3]/div[1]').text\n",
    "print(group_name)\n",
    "\n",
    "group_id = group_url.split('@')[1]\n",
    "print(group_id)\n",
    "\n",
    "with open('group.csv', mode='w') as group:\n",
    "    employee_writer = csv.writer(group, delimiter=',', quotechar='\"', quoting=csv.QUOTE_MINIMAL)\n",
    "\n",
    "    employee_writer.writerow(['id', 'name', 'photo'])\n",
    "    employee_writer.writerow([group_id, str(group_name), str(photo_url)])\n"
   ]
  },
  {
   "cell_type": "code",
   "execution_count": 17,
   "id": "110237ee-013d-4186-8b13-544c382a2110",
   "metadata": {},
   "outputs": [
    {
     "name": "stdout",
     "output_type": "stream",
     "text": [
      "1034\n",
      "False\n"
     ]
    },
    {
     "name": "stdin",
     "output_type": "stream",
     "text": [
      "Press q to go to next step or press any other key to check if more data can be scraped q\n"
     ]
    }
   ],
   "source": [
    "# write a function\n",
    "# wihch takes starting point and ending point of scroll and scrolls that much\n",
    "# updates the starting point and ending of scroll\n",
    "\n",
    "mem_x = driver.execute_script(\"return document.body.offsetWidth\")\n",
    "print(mem_x)\n",
    "\n",
    "def scroll(x, y, start, end, element):\n",
    "    actions = ActionChains(driver)\n",
    "    actions.move_to_element(element)\n",
    "    actions.key_up(Keys.CONTROL)\n",
    "    actions.scroll(x, y, start, end, 4, 'viewport')\n",
    "    actions.perform()\n",
    "        \n",
    "# time.sleep(4)\n",
    "# scroll(msg_scroll_start, msg_scroll_end, scroll_messages)\n",
    "\n",
    "loader = 30000\n",
    "quit_msg = False\n",
    "while quit_msg==False:\n",
    "    loader = loader + 10000\n",
    "    print(quit_msg)\n",
    "    input_V = input('Press q to go to next step or press any other key to check if more data can be scraped')\n",
    "    if input_V == 'q':\n",
    "        quit_msg = True\n",
    "    else: \n",
    "        print(\"Refreshing members\")\n",
    "        print(loader)\n",
    "        time.sleep(4)\n",
    "        scroll(mem_x-100, 200, 190, loader, group_photo)\n",
    "        print(\"Scrolled till \" + str(loader))\n"
   ]
  },
  {
   "cell_type": "code",
   "execution_count": 19,
   "id": "3359885e-b69f-49d9-b2fc-3b12f9fe9964",
   "metadata": {},
   "outputs": [
    {
     "ename": "KeyboardInterrupt",
     "evalue": "",
     "output_type": "error",
     "traceback": [
      "\u001b[1;31m---------------------------------------------------------------------------\u001b[0m",
      "\u001b[1;31mKeyboardInterrupt\u001b[0m                         Traceback (most recent call last)",
      "Cell \u001b[1;32mIn [19], line 1\u001b[0m\n\u001b[1;32m----> 1\u001b[0m \u001b[43mtime\u001b[49m\u001b[38;5;241;43m.\u001b[39;49m\u001b[43msleep\u001b[49m\u001b[43m(\u001b[49m\u001b[38;5;241;43m4\u001b[39;49m\u001b[43m)\u001b[49m\n\u001b[0;32m      2\u001b[0m member_ul \u001b[38;5;241m=\u001b[39m driver\u001b[38;5;241m.\u001b[39mfind_element(By\u001b[38;5;241m.\u001b[39mXPATH, \u001b[38;5;124m'\u001b[39m\u001b[38;5;124m//*[@id=\u001b[39m\u001b[38;5;124m\"\u001b[39m\u001b[38;5;124mcolumn-right\u001b[39m\u001b[38;5;124m\"\u001b[39m\u001b[38;5;124m]/div/div/div[2]/div/div/div[3]/div[2]/div[1]/div/ul\u001b[39m\u001b[38;5;124m'\u001b[39m)\n\u001b[0;32m      3\u001b[0m \u001b[38;5;28mprint\u001b[39m(member_ul)\n",
      "\u001b[1;31mKeyboardInterrupt\u001b[0m: "
     ]
    }
   ],
   "source": [
    "time.sleep(4)\n",
    "member_ul = driver.find_element(By.XPATH, '//*[@id=\"column-right\"]/div/div/div[2]/div/div/div[3]/div[2]/div[1]/div/ul')\n",
    "print(member_ul)\n",
    "time.sleep(2)\n",
    "members = member_ul.find_elements(By.CSS_SELECTOR, 'p.dialog-title')\n",
    "# print(members)\n",
    "print(str(len(members)) + \" users found\")\n",
    "    \n",
    "with open('members.csv', mode='w') as members_file:\n",
    "    employee_writer = csv.writer(members_file, delimiter=',', quotechar='\"', quoting=csv.QUOTE_MINIMAL)\n",
    "    for i in range(len(members)):\n",
    "        print(str(i) + \". \" + members[i].text)\n",
    "        try:\n",
    "            employee_writer.writerow([str(i), members[i].text])\n",
    "        except Exception as Ex:\n",
    "            print(\"An exception occurred\")\n",
    "            print(Ex)"
   ]
  },
  {
   "cell_type": "code",
   "execution_count": 20,
   "id": "9fb8a9f3-fd52-4961-adc9-f7073079be93",
   "metadata": {},
   "outputs": [
    {
     "ename": "ElementNotInteractableException",
     "evalue": "Message: element not interactable\n  (Session info: chrome=105.0.5195.127)\nStacktrace:\nBacktrace:\n\tOrdinal0 [0x0102DF13+2219795]\n\tOrdinal0 [0x00FC2841+1779777]\n\tOrdinal0 [0x00ED4100+803072]\n\tOrdinal0 [0x00F03FB6+999350]\n\tOrdinal0 [0x00EF9B76+957302]\n\tOrdinal0 [0x00F1E7FC+1107964]\n\tOrdinal0 [0x00EF94B4+955572]\n\tOrdinal0 [0x00F1EA14+1108500]\n\tOrdinal0 [0x00F2F192+1175954]\n\tOrdinal0 [0x00F1E616+1107478]\n\tOrdinal0 [0x00EF7F89+950153]\n\tOrdinal0 [0x00EF8F56+954198]\n\tGetHandleVerifier [0x01322CB2+3040210]\n\tGetHandleVerifier [0x01312BB4+2974420]\n\tGetHandleVerifier [0x010C6A0A+565546]\n\tGetHandleVerifier [0x010C5680+560544]\n\tOrdinal0 [0x00FC9A5C+1808988]\n\tOrdinal0 [0x00FCE3A8+1827752]\n\tOrdinal0 [0x00FCE495+1827989]\n\tOrdinal0 [0x00FD80A4+1867940]\n\tBaseThreadInitThunk [0x75EDFA29+25]\n\tRtlGetAppContainerNamedObjectPath [0x77407B5E+286]\n\tRtlGetAppContainerNamedObjectPath [0x77407B2E+238]\n",
     "output_type": "error",
     "traceback": [
      "\u001b[1;31m---------------------------------------------------------------------------\u001b[0m",
      "\u001b[1;31mElementNotInteractableException\u001b[0m           Traceback (most recent call last)",
      "Cell \u001b[1;32mIn [20], line 7\u001b[0m\n\u001b[0;32m      4\u001b[0m time\u001b[38;5;241m.\u001b[39msleep(\u001b[38;5;241m2\u001b[39m)\n\u001b[0;32m      5\u001b[0m \u001b[38;5;66;03m# cross = driver.find_element(By.XPATH, '//*[@id=\"column-right\"]/div/div/div[1]/button')\u001b[39;00m\n\u001b[0;32m      6\u001b[0m \u001b[38;5;66;03m# cross.click()\u001b[39;00m\n\u001b[1;32m----> 7\u001b[0m \u001b[43mback\u001b[49m\u001b[38;5;241;43m.\u001b[39;49m\u001b[43mclick\u001b[49m\u001b[43m(\u001b[49m\u001b[43m)\u001b[49m\n\u001b[0;32m      8\u001b[0m time\u001b[38;5;241m.\u001b[39msleep(\u001b[38;5;241m3\u001b[39m)\n",
      "File \u001b[1;32mD:\\projects\\telegram\\venv\\lib\\site-packages\\selenium\\webdriver\\remote\\webelement.py:88\u001b[0m, in \u001b[0;36mWebElement.click\u001b[1;34m(self)\u001b[0m\n\u001b[0;32m     86\u001b[0m \u001b[38;5;28;01mdef\u001b[39;00m \u001b[38;5;21mclick\u001b[39m(\u001b[38;5;28mself\u001b[39m) \u001b[38;5;241m-\u001b[39m\u001b[38;5;241m>\u001b[39m \u001b[38;5;28;01mNone\u001b[39;00m:\n\u001b[0;32m     87\u001b[0m     \u001b[38;5;124;03m\"\"\"Clicks the element.\"\"\"\u001b[39;00m\n\u001b[1;32m---> 88\u001b[0m     \u001b[38;5;28;43mself\u001b[39;49m\u001b[38;5;241;43m.\u001b[39;49m\u001b[43m_execute\u001b[49m\u001b[43m(\u001b[49m\u001b[43mCommand\u001b[49m\u001b[38;5;241;43m.\u001b[39;49m\u001b[43mCLICK_ELEMENT\u001b[49m\u001b[43m)\u001b[49m\n",
      "File \u001b[1;32mD:\\projects\\telegram\\venv\\lib\\site-packages\\selenium\\webdriver\\remote\\webelement.py:396\u001b[0m, in \u001b[0;36mWebElement._execute\u001b[1;34m(self, command, params)\u001b[0m\n\u001b[0;32m    394\u001b[0m     params \u001b[38;5;241m=\u001b[39m {}\n\u001b[0;32m    395\u001b[0m params[\u001b[38;5;124m'\u001b[39m\u001b[38;5;124mid\u001b[39m\u001b[38;5;124m'\u001b[39m] \u001b[38;5;241m=\u001b[39m \u001b[38;5;28mself\u001b[39m\u001b[38;5;241m.\u001b[39m_id\n\u001b[1;32m--> 396\u001b[0m \u001b[38;5;28;01mreturn\u001b[39;00m \u001b[38;5;28;43mself\u001b[39;49m\u001b[38;5;241;43m.\u001b[39;49m\u001b[43m_parent\u001b[49m\u001b[38;5;241;43m.\u001b[39;49m\u001b[43mexecute\u001b[49m\u001b[43m(\u001b[49m\u001b[43mcommand\u001b[49m\u001b[43m,\u001b[49m\u001b[43m \u001b[49m\u001b[43mparams\u001b[49m\u001b[43m)\u001b[49m\n",
      "File \u001b[1;32mD:\\projects\\telegram\\venv\\lib\\site-packages\\selenium\\webdriver\\remote\\webdriver.py:428\u001b[0m, in \u001b[0;36mWebDriver.execute\u001b[1;34m(self, driver_command, params)\u001b[0m\n\u001b[0;32m    426\u001b[0m response \u001b[38;5;241m=\u001b[39m \u001b[38;5;28mself\u001b[39m\u001b[38;5;241m.\u001b[39mcommand_executor\u001b[38;5;241m.\u001b[39mexecute(driver_command, params)\n\u001b[0;32m    427\u001b[0m \u001b[38;5;28;01mif\u001b[39;00m response:\n\u001b[1;32m--> 428\u001b[0m     \u001b[38;5;28;43mself\u001b[39;49m\u001b[38;5;241;43m.\u001b[39;49m\u001b[43merror_handler\u001b[49m\u001b[38;5;241;43m.\u001b[39;49m\u001b[43mcheck_response\u001b[49m\u001b[43m(\u001b[49m\u001b[43mresponse\u001b[49m\u001b[43m)\u001b[49m\n\u001b[0;32m    429\u001b[0m     response[\u001b[38;5;124m'\u001b[39m\u001b[38;5;124mvalue\u001b[39m\u001b[38;5;124m'\u001b[39m] \u001b[38;5;241m=\u001b[39m \u001b[38;5;28mself\u001b[39m\u001b[38;5;241m.\u001b[39m_unwrap_value(\n\u001b[0;32m    430\u001b[0m         response\u001b[38;5;241m.\u001b[39mget(\u001b[38;5;124m'\u001b[39m\u001b[38;5;124mvalue\u001b[39m\u001b[38;5;124m'\u001b[39m, \u001b[38;5;28;01mNone\u001b[39;00m))\n\u001b[0;32m    431\u001b[0m     \u001b[38;5;28;01mreturn\u001b[39;00m response\n",
      "File \u001b[1;32mD:\\projects\\telegram\\venv\\lib\\site-packages\\selenium\\webdriver\\remote\\errorhandler.py:243\u001b[0m, in \u001b[0;36mErrorHandler.check_response\u001b[1;34m(self, response)\u001b[0m\n\u001b[0;32m    241\u001b[0m         alert_text \u001b[38;5;241m=\u001b[39m value[\u001b[38;5;124m'\u001b[39m\u001b[38;5;124malert\u001b[39m\u001b[38;5;124m'\u001b[39m]\u001b[38;5;241m.\u001b[39mget(\u001b[38;5;124m'\u001b[39m\u001b[38;5;124mtext\u001b[39m\u001b[38;5;124m'\u001b[39m)\n\u001b[0;32m    242\u001b[0m     \u001b[38;5;28;01mraise\u001b[39;00m exception_class(message, screen, stacktrace, alert_text)  \u001b[38;5;66;03m# type: ignore[call-arg]  # mypy is not smart enough here\u001b[39;00m\n\u001b[1;32m--> 243\u001b[0m \u001b[38;5;28;01mraise\u001b[39;00m exception_class(message, screen, stacktrace)\n",
      "\u001b[1;31mElementNotInteractableException\u001b[0m: Message: element not interactable\n  (Session info: chrome=105.0.5195.127)\nStacktrace:\nBacktrace:\n\tOrdinal0 [0x0102DF13+2219795]\n\tOrdinal0 [0x00FC2841+1779777]\n\tOrdinal0 [0x00ED4100+803072]\n\tOrdinal0 [0x00F03FB6+999350]\n\tOrdinal0 [0x00EF9B76+957302]\n\tOrdinal0 [0x00F1E7FC+1107964]\n\tOrdinal0 [0x00EF94B4+955572]\n\tOrdinal0 [0x00F1EA14+1108500]\n\tOrdinal0 [0x00F2F192+1175954]\n\tOrdinal0 [0x00F1E616+1107478]\n\tOrdinal0 [0x00EF7F89+950153]\n\tOrdinal0 [0x00EF8F56+954198]\n\tGetHandleVerifier [0x01322CB2+3040210]\n\tGetHandleVerifier [0x01312BB4+2974420]\n\tGetHandleVerifier [0x010C6A0A+565546]\n\tGetHandleVerifier [0x010C5680+560544]\n\tOrdinal0 [0x00FC9A5C+1808988]\n\tOrdinal0 [0x00FCE3A8+1827752]\n\tOrdinal0 [0x00FCE495+1827989]\n\tOrdinal0 [0x00FD80A4+1867940]\n\tBaseThreadInitThunk [0x75EDFA29+25]\n\tRtlGetAppContainerNamedObjectPath [0x77407B5E+286]\n\tRtlGetAppContainerNamedObjectPath [0x77407B2E+238]\n"
     ]
    }
   ],
   "source": [
    "time.sleep(2)\n",
    "back = driver.find_element(By.XPATH, '//*[@id=\"column-right\"]/div/div/div[1]/button')\n",
    "back.click()\n",
    "time.sleep(2)\n",
    "# cross = driver.find_element(By.XPATH, '//*[@id=\"column-right\"]/div/div/div[1]/button')\n",
    "# cross.click()\n",
    "back.click()\n",
    "time.sleep(3)"
   ]
  },
  {
   "cell_type": "markdown",
   "id": "967d1f46-edd7-44f0-83a2-f7e493dd2006",
   "metadata": {
    "tags": []
   },
   "source": [
    "## Scraping messages"
   ]
  },
  {
   "cell_type": "code",
   "execution_count": 21,
   "id": "ffa83759-2c82-4705-a92e-bdb12e0a44b0",
   "metadata": {},
   "outputs": [
    {
     "name": "stdout",
     "output_type": "stream",
     "text": [
      "Now the left of messages section is at 413.59375 and we will scroll at 433\n"
     ]
    }
   ],
   "source": [
    "msg_scroll_start = 200\n",
    "msg_scroll_end = -1000\n",
    "msg_scroll_left = 400\n",
    "total_msgs_found = 0\n",
    "# satisfied variable will tell if the client is okay with total fetched messages or he wants to fetch more messages\n",
    "satisfied = False\n",
    "\n",
    "scroll_messages = driver.find_element(By.XPATH, '//*[@id=\"column-center\"]/div/div/div[3]/div')\n",
    "coordinates = driver.execute_script('return document.querySelector(\".bubbles-inner\").getBoundingClientRect()')\n",
    "# print(coordinates)\n",
    "# print(coordinates.get('left'))\n",
    "msg_scroll_left = int(coordinates.get('left')) + 20\n",
    "print(\"Now the left of messages section is at \" + str(coordinates.get('left')) + \" and we will scroll at \" + str(msg_scroll_left))"
   ]
  },
  {
   "cell_type": "code",
   "execution_count": null,
   "id": "1b7e3e67-5028-45ab-8952-082634ee6b82",
   "metadata": {},
   "outputs": [],
   "source": [
    "msg_scroll_height = -3000\n",
    "def scroll_msgs(scrollY):\n",
    "    actions = ActionChains(driver)\n",
    "    actions.move_to_element(scroll_messages)\n",
    "    actions.key_up(Keys.CONTROL)\n",
    "    actions.scroll(msg_scroll_left, 200, 500, scrollY, 4, 'viewport')\n",
    "    actions.perform()\n",
    "\n",
    "scroll_msgs(-5000)\n",
    "time.sleep(5)\n",
    "scroll_msgs(-15000)\n",
    "time.sleep(5)\n",
    "scroll_msgs(-35000)\n",
    "time.sleep(5)\n",
    "scroll_msgs(-45000)\n",
    "time.sleep(5)\n",
    "# scroll_msg(msg_scroll_start, 200, 10, -1000, scroll_messages)"
   ]
  },
  {
   "cell_type": "code",
   "execution_count": null,
   "id": "349fd3e1-5c7a-4eff-8c4f-85c736d624f2",
   "metadata": {},
   "outputs": [],
   "source": [
    "# count messages and update the number of messages found\n",
    "def count_msg():\n",
    "    global messages\n",
    "    messages = driver.find_elements(By.XPATH, \"//div[@class='message spoilers-container']\")\n",
    "    total_msgs_found = len(messages)\n",
    "    print('total_msgs_found ' + str(total_msgs_found))"
   ]
  },
  {
   "cell_type": "code",
   "execution_count": null,
   "id": "d61c6a6d-7441-45be-9d1b-49e50d65056f",
   "metadata": {},
   "outputs": [],
   "source": [
    "# save messages\n",
    "def save():\n",
    "    with open('msg_file.csv', mode='w') as msg_file:\n",
    "        employee_writer = csv.writer(msg_file, delimiter=',', quotechar='\"', quoting=csv.QUOTE_MINIMAL)\n",
    "        print(total_msgs_found)\n",
    "        print(len(messages))\n",
    "        for i in range(total_msgs_found): \n",
    "            print(messages[i].text)\n",
    "            employee_writer.writerow([str(i), messages[i].text])\n",
    "\n",
    "# save()"
   ]
  },
  {
   "cell_type": "code",
   "execution_count": null,
   "id": "4c8f6920-6ba0-43f3-98a4-584ca4d86ef5",
   "metadata": {},
   "outputs": [
    {
     "name": "stdout",
     "output_type": "stream",
     "text": [
      "11\n",
      "False\n"
     ]
    }
   ],
   "source": [
    "msg_loader = -15000\n",
    "quit_msg = False\n",
    "print(11)\n",
    "while quit_msg==False:\n",
    "    msg_loader = msg_loader -10000\n",
    "    print(quit_msg)\n",
    "    input_V = input('Press any key to continue or press q to quit')\n",
    "    if input_V == 'q':\n",
    "        print(\"quitting...printing to csv file\")\n",
    "        save()\n",
    "        quit_msg = True\n",
    "    else:\n",
    "        print(\"Loading\")\n",
    "        print(msg_loader)\n",
    "        scroll_msgs(msg_loader)\n",
    "        time.sleep(10)\n",
    "        print(\"Scrolled\")\n",
    "        count_msg()\n",
    "        print(\"Counted Messages\")\n"
   ]
  },
  {
   "cell_type": "code",
   "execution_count": null,
   "id": "c5b0b79c-e668-4de8-9c1a-bad6b461961a",
   "metadata": {},
   "outputs": [],
   "source": []
  }
 ],
 "metadata": {
  "kernelspec": {
   "display_name": "Python 3 (ipykernel)",
   "language": "python",
   "name": "python3"
  },
  "language_info": {
   "codemirror_mode": {
    "name": "ipython",
    "version": 3
   },
   "file_extension": ".py",
   "mimetype": "text/x-python",
   "name": "python",
   "nbconvert_exporter": "python",
   "pygments_lexer": "ipython3",
   "version": "3.10.0"
  }
 },
 "nbformat": 4,
 "nbformat_minor": 5
}
