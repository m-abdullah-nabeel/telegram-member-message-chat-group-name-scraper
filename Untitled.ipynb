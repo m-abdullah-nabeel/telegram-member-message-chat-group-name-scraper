{
 "cells": [
  {
   "cell_type": "code",
   "execution_count": 52,
   "id": "f170a09b-1603-47e4-ac47-152ab921fcfa",
   "metadata": {},
   "outputs": [],
   "source": [
    "from selenium import webdriver\n",
    "from selenium.webdriver.common.keys import Keys\n",
    "from selenium.webdriver.common.by import By\n",
    "import time\n",
    "import csv\n",
    "from selenium.webdriver.common.action_chains import ActionChains"
   ]
  },
  {
   "cell_type": "code",
   "execution_count": 53,
   "id": "9262b914-d09b-4844-829c-cf35be878441",
   "metadata": {},
   "outputs": [
    {
     "name": "stdin",
     "output_type": "stream",
     "text": [
      "url of the group to scrape messages https://web.telegram.org/k/#@freelancers_int\n"
     ]
    }
   ],
   "source": [
    "group_url = input(\"url of the group to scrape messages\")"
   ]
  },
  {
   "cell_type": "code",
   "execution_count": 54,
   "id": "270842c7-ed2f-4e82-8892-04aa56698c81",
   "metadata": {},
   "outputs": [
    {
     "name": "stderr",
     "output_type": "stream",
     "text": [
      "C:\\Users\\PC\\AppData\\Local\\Temp\\ipykernel_7084\\867614806.py:12: DeprecationWarning: use options instead of chrome_options\n",
      "  driver = webdriver.Chrome(chrome_options=options)\n"
     ]
    }
   ],
   "source": [
    "options = webdriver.ChromeOptions()\n",
    "# options.add_argument(\"--start-maximized\")\n",
    "# options.add_argument('--headless')\n",
    "options.add_argument('--disable-extensions')\n",
    "options.add_argument('--incognito')\n",
    "options.add_argument('--disable-gpu')\n",
    "options.add_argument('--log-level=3')\n",
    "# options.add_argument(f'user-agent={ua}')\n",
    "options.add_argument('--disable-notifications')\n",
    "options.add_argument('--disable-popup-blocking')\n",
    "\n",
    "driver = webdriver.Chrome(chrome_options=options)\n"
   ]
  },
  {
   "cell_type": "code",
   "execution_count": 55,
   "id": "b020f017-994d-4049-8af3-5c0694d07b44",
   "metadata": {},
   "outputs": [
    {
     "name": "stdout",
     "output_type": "stream",
     "text": [
      "Waiting\n"
     ]
    }
   ],
   "source": [
    "driver.get(\"https://web.telegram.org/k/\")\n",
    "print(\"Waiting\")\n",
    "time.sleep(5)"
   ]
  },
  {
   "cell_type": "code",
   "execution_count": 56,
   "id": "0873e1ad-c457-48e3-96c6-b6939e0d9a30",
   "metadata": {},
   "outputs": [
    {
     "name": "stdout",
     "output_type": "stream",
     "text": [
      "<selenium.webdriver.remote.webelement.WebElement (session=\"74d961b74cb132966561e976c13c3d4a\", element=\"be26d693-28ef-447c-98ec-80702095b55e\")>\n",
      "Login\n"
     ]
    }
   ],
   "source": [
    "# click on login button\n",
    "login = driver.find_element(By.XPATH, '//div[@class=\"c-ripple\"]')\n",
    "print(login)\n",
    "print(\"Login\")\n",
    "login.click()\n",
    "time.sleep(5)\n"
   ]
  },
  {
   "cell_type": "code",
   "execution_count": 57,
   "id": "12be78e9-6592-4370-9fb9-1753df96c61f",
   "metadata": {},
   "outputs": [
    {
     "name": "stdout",
     "output_type": "stream",
     "text": [
      "Clicked\n",
      "Sending Key\n",
      "Cleared\n"
     ]
    }
   ],
   "source": [
    "# enter number\n",
    "number = driver.find_element(By.XPATH, '//*[@id=\"auth-pages\"]/div/div[2]/div[1]/div/div[3]/div[2]/div[1]')\n",
    "# print(number)\n",
    "# print(\"number\")\n",
    "time.sleep(2)\n",
    "number.click()\n",
    "print(\"Clicked\")\n",
    "time.sleep(2)\n",
    "\n",
    "for i in range(4):\n",
    "    number.send_keys(Keys.BACK_SPACE)\n",
    "    \n",
    "print(\"Sending Key\")\n",
    "number.send_keys(\"+923117039097\")\n",
    "print(\"Cleared\")"
   ]
  },
  {
   "cell_type": "code",
   "execution_count": 58,
   "id": "73f562eb-6875-4566-99bc-9323e0c4a268",
   "metadata": {},
   "outputs": [
    {
     "name": "stdout",
     "output_type": "stream",
     "text": [
      "sending for otp\n"
     ]
    }
   ],
   "source": [
    "number.send_keys(Keys.ENTER)\n",
    "print(\"sending for otp\")"
   ]
  },
  {
   "cell_type": "code",
   "execution_count": 59,
   "id": "052fcd71-65db-41dc-a68a-7574ab6c8864",
   "metadata": {},
   "outputs": [
    {
     "name": "stdin",
     "output_type": "stream",
     "text": [
      "Write OTP recieved from your Mobile telegram app:  52561\n"
     ]
    }
   ],
   "source": [
    "otp = input(\"Write OTP recieved from your Mobile telegram app: \")"
   ]
  },
  {
   "cell_type": "code",
   "execution_count": 60,
   "id": "a8bde1d3-0601-4045-8c4a-ea9bcb181afe",
   "metadata": {},
   "outputs": [
    {
     "name": "stdout",
     "output_type": "stream",
     "text": [
      "52561\n"
     ]
    }
   ],
   "source": [
    "print(otp)\n",
    "time.sleep(6)"
   ]
  },
  {
   "cell_type": "code",
   "execution_count": 61,
   "id": "2b7aa9d6-56f4-476c-a531-56178bbbc787",
   "metadata": {},
   "outputs": [
    {
     "name": "stdout",
     "output_type": "stream",
     "text": [
      "<selenium.webdriver.remote.webelement.WebElement (session=\"74d961b74cb132966561e976c13c3d4a\", element=\"958f8f97-6a6a-404c-8da7-d1c1f5a89bb9\")>\n",
      "otp_input\n",
      "done waiting\n"
     ]
    }
   ],
   "source": [
    "otp_input = driver.find_element(By.XPATH, '//*[@id=\"auth-pages\"]/div/div[2]/div[3]/div/div[3]/div/input')\n",
    "print(otp_input)\n",
    "print('otp_input')\n",
    "otp_input.click()\n",
    "otp_input.send_keys(otp)\n",
    "time.sleep(5)\n",
    "print('done waiting')"
   ]
  },
  {
   "cell_type": "markdown",
   "id": "915851cc-2880-4bbc-b3c0-7966e2e3d765",
   "metadata": {},
   "source": [
    "# Loggedin Successfully"
   ]
  },
  {
   "cell_type": "code",
   "execution_count": 62,
   "id": "9bc1b6ba-64e1-4dd1-8d67-a9526a4272d3",
   "metadata": {},
   "outputs": [],
   "source": [
    "# get driver to some group url\n",
    "driver.get(group_url)\n",
    "# driver.get(\"https://web.telegram.org/k/#@freelancers_int\")\n",
    "time.sleep(5)\n",
    "# https://web.telegram.org/k/#@freelancers_int"
   ]
  },
  {
   "cell_type": "code",
   "execution_count": 63,
   "id": "3519ab09-60ad-4f21-b0f2-24092b3140a8",
   "metadata": {},
   "outputs": [
    {
     "name": "stdout",
     "output_type": "stream",
     "text": [
      "Opening open_info\n"
     ]
    }
   ],
   "source": [
    "open_info = driver.find_element(By.XPATH, \"//div[@class='user-title']\")\n",
    "time.sleep(2)\n",
    "open_info.click()\n",
    "time.sleep(1)\n",
    "print(\"Opening open_info\")"
   ]
  },
  {
   "cell_type": "code",
   "execution_count": 64,
   "id": "3e52b5fb-331b-46c8-919e-d42859f6deb1",
   "metadata": {},
   "outputs": [
    {
     "name": "stdout",
     "output_type": "stream",
     "text": [
      "blob:https://web.telegram.org/8f4389d1-47fd-4221-b877-d3cc912046d8\n"
     ]
    },
    {
     "data": {
      "text/plain": [
       "True"
      ]
     },
     "execution_count": 64,
     "metadata": {},
     "output_type": "execute_result"
    }
   ],
   "source": [
    "group_photo = driver.find_element(By.XPATH, '//*[@id=\"column-right\"]/div/div/div[2]/div/div/div[1]/div[1]/div/img')\n",
    "print(group_photo.get_attribute(\"src\"))\n",
    "photo_url = group_photo.get_attribute(\"src\")\n",
    "driver.get_screenshot_as_file(\"group.png\")\n",
    "# group_photo.get_screenshot_as_file(\"group.png\")"
   ]
  },
  {
   "cell_type": "code",
   "execution_count": 44,
   "id": "7a1fe9d2-35b8-40cf-9bad-79d678e3abfc",
   "metadata": {},
   "outputs": [
    {
     "name": "stdout",
     "output_type": "stream",
     "text": [
      "Crypto Freelancers\n"
     ]
    },
    {
     "ename": "NameError",
     "evalue": "name 'group_url' is not defined",
     "output_type": "error",
     "traceback": [
      "\u001b[1;31m---------------------------------------------------------------------------\u001b[0m",
      "\u001b[1;31mNameError\u001b[0m                                 Traceback (most recent call last)",
      "Cell \u001b[1;32mIn [44], line 4\u001b[0m\n\u001b[0;32m      1\u001b[0m group_name \u001b[38;5;241m=\u001b[39m driver\u001b[38;5;241m.\u001b[39mfind_element(By\u001b[38;5;241m.\u001b[39mXPATH, \u001b[38;5;124m'\u001b[39m\u001b[38;5;124m//*[@id=\u001b[39m\u001b[38;5;124m\"\u001b[39m\u001b[38;5;124mcolumn-right\u001b[39m\u001b[38;5;124m\"\u001b[39m\u001b[38;5;124m]/div/div/div[2]/div/div/div[1]/div[3]/div[1]\u001b[39m\u001b[38;5;124m'\u001b[39m)\u001b[38;5;241m.\u001b[39mtext\n\u001b[0;32m      2\u001b[0m \u001b[38;5;28mprint\u001b[39m(group_name)\n\u001b[1;32m----> 4\u001b[0m group_id \u001b[38;5;241m=\u001b[39m \u001b[43mgroup_url\u001b[49m\u001b[38;5;241m.\u001b[39msplit(\u001b[38;5;124m'\u001b[39m\u001b[38;5;124m@\u001b[39m\u001b[38;5;124m'\u001b[39m)[\u001b[38;5;241m1\u001b[39m]\n\u001b[0;32m      6\u001b[0m \u001b[38;5;28;01mwith\u001b[39;00m \u001b[38;5;28mopen\u001b[39m(\u001b[38;5;124m'\u001b[39m\u001b[38;5;124mgroup.csv\u001b[39m\u001b[38;5;124m'\u001b[39m, mode\u001b[38;5;241m=\u001b[39m\u001b[38;5;124m'\u001b[39m\u001b[38;5;124mw\u001b[39m\u001b[38;5;124m'\u001b[39m) \u001b[38;5;28;01mas\u001b[39;00m group:\n\u001b[0;32m      7\u001b[0m     employee_writer \u001b[38;5;241m=\u001b[39m csv\u001b[38;5;241m.\u001b[39mwriter(group, delimiter\u001b[38;5;241m=\u001b[39m\u001b[38;5;124m'\u001b[39m\u001b[38;5;124m,\u001b[39m\u001b[38;5;124m'\u001b[39m, quotechar\u001b[38;5;241m=\u001b[39m\u001b[38;5;124m'\u001b[39m\u001b[38;5;124m\"\u001b[39m\u001b[38;5;124m'\u001b[39m, quoting\u001b[38;5;241m=\u001b[39mcsv\u001b[38;5;241m.\u001b[39mQUOTE_MINIMAL)\n",
      "\u001b[1;31mNameError\u001b[0m: name 'group_url' is not defined"
     ]
    }
   ],
   "source": [
    "group_name = driver.find_element(By.XPATH, '//*[@id=\"column-right\"]/div/div/div[2]/div/div/div[1]/div[3]/div[1]').text\n",
    "print(group_name)\n",
    "\n",
    "group_id = group_url.split('@')[1]\n",
    "\n",
    "with open('group.csv', mode='w') as group:\n",
    "    employee_writer = csv.writer(group, delimiter=',', quotechar='\"', quoting=csv.QUOTE_MINIMAL)\n",
    "\n",
    "    employee_writer.writerow(['id', 'name', 'photo'])\n",
    "    employee_writer.writerow([group_id, str(group_name), str(photo_url)])\n"
   ]
  },
  {
   "cell_type": "code",
   "execution_count": 65,
   "id": "110237ee-013d-4186-8b13-544c382a2110",
   "metadata": {},
   "outputs": [
    {
     "name": "stdout",
     "output_type": "stream",
     "text": [
      "1212\n",
      "False\n"
     ]
    },
    {
     "name": "stdin",
     "output_type": "stream",
     "text": [
      "Press any key to continue h\n"
     ]
    },
    {
     "name": "stdout",
     "output_type": "stream",
     "text": [
      "Loading members\n",
      "40000\n"
     ]
    },
    {
     "name": "stderr",
     "output_type": "stream",
     "text": [
      "C:\\Users\\PC\\AppData\\Local\\Temp\\ipykernel_7084\\3797070514.py:13: DeprecationWarning: scroll() has been deprecated, please use scroll_to_element(), scroll_by_amount() or scroll_from_origin().\n",
      "  actions.scroll(x, y, start, end, 4, 'viewport')\n"
     ]
    },
    {
     "name": "stdout",
     "output_type": "stream",
     "text": [
      "Scrolled Once\n",
      "False\n"
     ]
    },
    {
     "name": "stdin",
     "output_type": "stream",
     "text": [
      "Press any key to continue g\n"
     ]
    },
    {
     "name": "stdout",
     "output_type": "stream",
     "text": [
      "Loading members\n",
      "50000\n",
      "Scrolled Once\n",
      "False\n"
     ]
    },
    {
     "name": "stdin",
     "output_type": "stream",
     "text": [
      "Press any key to continue r\n"
     ]
    },
    {
     "name": "stdout",
     "output_type": "stream",
     "text": [
      "Loading members\n",
      "60000\n",
      "Scrolled Once\n",
      "False\n"
     ]
    },
    {
     "name": "stdin",
     "output_type": "stream",
     "text": [
      "Press any key to continue q\n"
     ]
    }
   ],
   "source": [
    "# write a function\n",
    "# wihch takes starting point and ending point of scroll\n",
    "# scrolls that much\n",
    "# updates the starting point and ending of scroll\n",
    "# time.sleep(4)\n",
    "mem_x = driver.execute_script(\"return document.body.offsetWidth\")\n",
    "print(mem_x)\n",
    "\n",
    "def scroll(x, y, start, end, element):\n",
    "    actions = ActionChains(driver)\n",
    "    actions.move_to_element(element)\n",
    "    actions.key_up(Keys.CONTROL)\n",
    "    actions.scroll(x, y, start, end, 4, 'viewport')\n",
    "    actions.perform()\n",
    "        \n",
    "# time.sleep(4)\n",
    "# scroll(msg_scroll_start, msg_scroll_end, scroll_messages)\n",
    "\n",
    "# for i in range(5):\n",
    "    # time.sleep(4)\n",
    "    # scroll(mem_x-100, 190, 30000, group_photo)\n",
    "    # print(\"Scrolled Once\")\n",
    "    \n",
    "# time.sleep(4)\n",
    "# scroll(mem_x-100, 200, 190, 30000, group_photo)\n",
    "# print(\"Scrolled Once\")\n",
    "# time.sleep(4)\n",
    "# scroll(mem_x-100, 200, 190, 50000, group_photo)\n",
    "# print(\"Scrolled Once\")\n",
    "# time.sleep(4)\n",
    "# scroll(mem_x-100, 200, 190, 70000, group_photo)\n",
    "# print(\"Scrolled Once\")\n",
    "# time.sleep(4)\n",
    "# scroll(mem_x-100, 200, 190, 90000, group_photo)\n",
    "# print(\"Scrolled Once\")\n",
    "\n",
    "loader = 30000\n",
    "quit_msg = False\n",
    "while quit_msg==False:\n",
    "    loader = loader + 10000\n",
    "    print(quit_msg)\n",
    "    input_V = input('Press any key to continue')\n",
    "    if input_V == 'q':\n",
    "        quit_msg = True\n",
    "    else: \n",
    "        print(\"Loading members\")\n",
    "        print(loader)\n",
    "        time.sleep(4)\n",
    "        scroll(mem_x-100, 200, 190, loader, group_photo)\n",
    "        print(\"Scrolled Once\")\n"
   ]
  },
  {
   "cell_type": "code",
   "execution_count": 66,
   "id": "3359885e-b69f-49d9-b2fc-3b12f9fe9964",
   "metadata": {},
   "outputs": [
    {
     "name": "stdout",
     "output_type": "stream",
     "text": [
      "<selenium.webdriver.remote.webelement.WebElement (session=\"74d961b74cb132966561e976c13c3d4a\", element=\"000ace06-7472-4cc7-856a-02aaae12d8c6\")>\n",
      "450\n",
      "King Khan\n",
      "Jason Thompson\n",
      "Susan Allen\n",
      "Muhammad Abdullah Nabeel\n",
      "AbdAlsalam Elsawi’s\n",
      "Oziy Strings\n",
      "im arhan\n",
      "Jeff Basile\n",
      "Michael 75264734\n",
      "Charles Dunn\n",
      "Surina 1998\n",
      "Rose Myers\n",
      "Esperanza Cruz Madre Luna\n",
      "Celine Locke\n",
      "Jiayi Chen\n",
      "Lethabo Makena\n",
      "Philisiwe Duduzile\n",
      "Laxmi Lau\n",
      "Admine Admin treding 4 you\n",
      "Craig Waters\n",
      "Thabisa Xolisile\n",
      "Roman Norris\n",
      "y4hoo\n",
      "Jeff\n",
      "Diana\n",
      "Falilat Rafiq\n",
      "tanisha ghani\n",
      "Barry Burnes\n",
      "Schowalski Krzysztof\n",
      "M M\n",
      "Aminat Fatima\n",
      "Tripz\n",
      "Akilah El Din\n",
      "SS\n",
      "Habiba\n",
      "Charlotte\n",
      "Marytha Philip\n",
      "DannyBoy\n",
      "Mio D k\n",
      "Amañda Hoffman\n",
      "Dees Box\n",
      "Mr Kayyy\n",
      "Ali\n",
      "smith\n",
      "James Rodjers\n",
      "Ethan Lincoin\n",
      "Your Dad\n",
      "Kreezha Shie Williams\n",
      "Bix\n",
      "Olam Kwame\n",
      "Sellma\n",
      "Amahle Siyagbonga\n",
      "Black\n",
      "Jessie Ozias\n",
      "Maxine Collins\n",
      "Zara Ibrahim\n",
      "Alee Junejo\n",
      "Collins M\n",
      "Rao Usman\n",
      "Aaron Mood\n",
      "Ahmed Emad\n",
      "Misba Mahirah\n",
      "talent Ugwu\n",
      "Nathalia williams\n",
      "nathalia williams\n",
      "Tabrez Ansari\n",
      "Lone Wolf\n",
      "James Momanal\n",
      "Smkalallala\n",
      "Jahida Jabeen\n",
      "S\n",
      "Taiwo Benediction\n",
      "Loki lokesh\n",
      "Samira Abadi\n",
      "Aliya Hammed\n",
      "Muhammad Zain\n",
      "Aliza Stella\n",
      "Anthony075\n",
      "Sylvia Tikkanen\n",
      "JHOSEPH\n",
      "Nadya Gn\n",
      "Ladon Thorman\n",
      "Abbie\n",
      "N3G1\n",
      "Isabel Tarayan\n",
      "Cole Danny\n",
      "Muhammed Kilinc\n",
      "Uncle Micky\n",
      "riya\n",
      "Xiulan\n",
      "nesterov 3\n",
      "Olivia\n",
      "Dorah Brande\n",
      "Juan Tie\n",
      "Earl Smith\n",
      "Bernard More\n",
      "Gabriella Jane\n",
      "Mlle Marie Mls\n",
      "Franz Belawan\n",
      "Support\n",
      "Alice Bailey\n",
      "Thando_lera\n",
      "King\n",
      "Ansh Kk\n",
      "okta Limited\n",
      "Christina Anthony\n",
      "Himanshu Saxena\n",
      "Valentine Ngene\n",
      "Lucy Jane\n",
      "Kebz Kins\n",
      "...... ,,,,,,,,,,\n",
      "Albern Kiara\n",
      "Jassica Willams\n",
      "Smily Haha\n",
      "Elina Wills\n",
      "Saeed Ullah\n",
      "Evance Ville\n",
      "Amany Fawzi\n",
      "Тамара Бабенкова\n",
      "An exception occurred\n",
      "'charmap' codec can't encode characters in position 4-9: character maps to <undefined>\n",
      "J J\n",
      "Atom Atom\n",
      "Oyekunle Comfort\n",
      "Akira 709\n",
      "Lauren Mae\n",
      "Paloma\n",
      "Avery kate\n",
      "Darcy1995\n",
      "Alex Pro\n",
      "Michael Steven\n",
      "Tuhin Khondoker\n",
      "Praniya Mali\n",
      "chawki chair\n",
      "Kesha Monroe\n",
      "Webdragon0125\n",
      "Derrick Mckenzie\n",
      "BrouDa\n",
      "Deo boosPro\n",
      "Writer Ruqsar\n",
      "Stacy\n",
      "ASIF khan\n",
      "Victoria Noel\n",
      "עומר\n",
      "An exception occurred\n",
      "'charmap' codec can't encode characters in position 4-7: character maps to <undefined>\n",
      "Arivi\n",
      "Brahim Tkl\n",
      "姬蒂\n",
      "An exception occurred\n",
      "'charmap' codec can't encode characters in position 4-5: character maps to <undefined>\n",
      "Ruvaida Qureshi\n",
      "Sagar Kumar Mishra\n",
      "Parth Dangre\n",
      "WhatsApp 79058180029 Ирина\n",
      "An exception occurred\n",
      "'charmap' codec can't encode characters in position 25-29: character maps to <undefined>\n",
      "Callme_ mh\n",
      "Max Johnson\n",
      "Gs36\n",
      "Cfdhj\n",
      "Sandat\n",
      "Emy Jack\n",
      "Nidhun Pv\n",
      "Beginning\n",
      "lauren Walt\n",
      "Stealth\n",
      "Online Income\n",
      "Aditya Rajput\n",
      "Naseer\n",
      "Sourabh Renuse\n",
      "Rishu Kumar\n",
      "Gary\n",
      "Ace\n",
      "Achintha Gunarathane\n",
      "BURGMAN ZINA\n",
      "Ngozika Ifeamareme\n",
      "Roses Smith\n",
      "Charistopher Marlow\n",
      "Ксения\n",
      "An exception occurred\n",
      "'charmap' codec can't encode characters in position 4-9: character maps to <undefined>\n",
      "Алексей-\n",
      "An exception occurred\n",
      "'charmap' codec can't encode characters in position 4-10: character maps to <undefined>\n",
      "Малинка-\n",
      "An exception occurred\n",
      "'charmap' codec can't encode characters in position 4-10: character maps to <undefined>\n",
      "Ravi Saini\n",
      "David Bergman\n",
      "Рома-\n",
      "An exception occurred\n",
      "'charmap' codec can't encode characters in position 4-7: character maps to <undefined>\n",
      "Екатерина\n",
      "An exception occurred\n",
      "'charmap' codec can't encode characters in position 4-12: character maps to <undefined>\n",
      "Shawaiz Ali\n",
      "Nikhil Mohite\n",
      "Walter Myles\n",
      "Jhon J Toloza\n",
      "Momin Khan\n",
      "Алексей-\n",
      "An exception occurred\n",
      "'charmap' codec can't encode characters in position 4-10: character maps to <undefined>\n",
      "Home boy\n",
      "Jatin Chhantbar\n",
      "BATMAN\n",
      "Britney Kramer\n",
      "....Preeti Manchal...\n",
      "yssn\n",
      "MD.SHAKIB MAHMUD\n",
      "Leon Lorenz\n",
      "Victor M\n",
      "Артур-\n",
      "An exception occurred\n",
      "'charmap' codec can't encode characters in position 4-8: character maps to <undefined>\n",
      "Crypto Dev\n",
      "Bharath geegi\n",
      "Reyhan\n",
      "Isaac Levin\n",
      "Bbchccv\n",
      "Fghhvvv\n",
      "Felicia Beckham\n",
      "Linda Smith\n",
      "Chuong Vu\n",
      "Arimas run\n",
      "Jagdeep Singh\n",
      "Earn money\n",
      "John Gary\n",
      "Mamta Sikarwal\n",
      "Ik\n",
      "Ankita Jain\n",
      "Coryn Faclube\n",
      "Buse Doğan\n",
      "An exception occurred\n",
      "'charmap' codec can't encode character '\\u011f' in position 11: character maps to <undefined>\n",
      "Wang Min\n",
      "Fred Anderson\n",
      "XeTtri Sandesh\n",
      "Riya Jobs\n",
      "Jira\n",
      "Mr Auto\n",
      "SCYPHER Driscoll\n",
      "Sam J\n",
      "zarah\n",
      "Ellen B. Trevino\n",
      "Harold Lewis\n",
      "Acs\n",
      "Elvis Mary\n",
      "Putih Farhana\n",
      "Tina\n",
      "Thomas Williams\n",
      "Michelle Bobby\n",
      "Mohsin Ait Hmaid\n",
      "AAAAAAAAAAAAAAAA\n",
      "Raheem Fayyaz\n",
      "Jackson Alexandra\n",
      "Editable You\n",
      "Macheal Newton\n",
      "Alicia\n",
      "Somen Das\n",
      "Sathish Masss\n",
      "Mi Jat\n",
      "Howard Daniel\n",
      "Kamal Kamal\n",
      "Prathaaam\n",
      "Bella Stones\n",
      "Ilu Y\n",
      "Bitcoin Lord\n",
      "James Emily\n",
      "Anil Hukunde\n",
      "Missy\n",
      "Sahib Saim\n",
      "Celestine Smith\n",
      "Krish\n",
      "Отлетел до 1 октября\n",
      "An exception occurred\n",
      "'charmap' codec can't encode characters in position 4-10: character maps to <undefined>\n",
      "Maja Presston\n",
      "Lux\n",
      "Отлетел до 27\n",
      "An exception occurred\n",
      "'charmap' codec can't encode characters in position 4-10: character maps to <undefined>\n",
      "Ashish Kohli\n",
      "Thrish Blantin\n",
      "LizN\n",
      "Ekene Akpapunam\n",
      "Shankar\n",
      "Kavita\n",
      "Lauren Fleischer\n",
      "Shawn Smith\n",
      "Gaurav Roy\n",
      "Lawrence Stonestreet\n",
      "BR Men\n",
      "Tony Walson\n",
      "Alexis Lam\n",
      "Jack Wheeler\n",
      "Badre Xicalor\n",
      "liu xin\n",
      "Dfugtv Buffub\n",
      "xiaoyun\n",
      "Josh\n",
      "Nayan\n",
      "Will Parfitt\n",
      "Abdo Lmt\n",
      "Отлёт до 28\n",
      "An exception occurred\n",
      "'charmap' codec can't encode characters in position 4-8: character maps to <undefined>\n",
      "KT\n",
      "Raza Akbar\n",
      "Aaryan Mittal\n",
      "Olasukanmi Ayomide Olamilekan\n",
      "Mat\n",
      "hongle\n",
      "Deepanshu Tanwar\n",
      "Thanh tuân\n",
      "Phillips James\n",
      "Peter Tarus.\n",
      "Work From Home Opportunity\n",
      "Maria Sanchez\n",
      "Ava\n",
      "Garvey Peka\n",
      "Philip Schuster\n",
      "Rocky Singh\n",
      "Muhammad Nayem\n",
      "Ishan Parmar\n",
      "Emma Davis\n",
      "Rick Web\n",
      "Guen\n",
      "Ariel Chen\n",
      "Nishant Chauhan\n",
      "Darrell Lovett\n",
      "tifany melissa\n",
      "Samin Khan\n",
      "David Cross\n",
      "Jackson Bin\n",
      "Waheed Ali\n",
      "Faisal Patel\n",
      "Johnson Franklin\n",
      "777\n",
      "Sanda B\n",
      "Derek\n",
      "bandao UU\n",
      "Luo Jubin\n",
      "Subramanya Hegde\n",
      "Arslan Ahmed\n",
      "arman alam\n",
      "Patron Romeo\n",
      "John Miller\n",
      "Azra\n",
      "irfan ali\n",
      "Joel Alejandro Flores Cuellar\n",
      "Llyod Sam\n",
      "hafsa bint umar\n",
      "Solomon Codeit\n",
      "hushmax\n",
      "Іra Shpak\n",
      "An exception occurred\n",
      "'charmap' codec can't encode character '\\u0406' in position 4: character maps to <undefined>\n",
      "Job searcher\n",
      "Jake Torrero\n",
      "Robert Lindsay\n",
      "Benson Frank\n",
      "celik\n",
      "Dewi Fauziah\n",
      "Mmr Mizan\n",
      "Arry,. M.E.O\n",
      "Bipin Kumar\n",
      "Luisa\n",
      "Khaliq Jr\n",
      "Brenda Morgan\n",
      "Farah Alshiekh\n",
      "Anna\n",
      "Patricia Charles\n",
      "Sumant Sagar\n",
      "Kunal Rajwanshi\n",
      "Vigneshwar Eswar\n",
      "linxue\n",
      "Angel Tambe\n",
      "Malcolm Xi\n",
      "fhfghb Ghjvb\n",
      "S\n",
      "Британец\n",
      "An exception occurred\n",
      "'charmap' codec can't encode characters in position 4-11: character maps to <undefined>\n",
      "Deiv\n",
      "Chae-Won\n",
      "Maria Eden\n",
      "Sonu Sonu\n",
      "Sean\n",
      "Tuchkas\n",
      "Ellena M\n",
      "Festus John\n",
      "Justin\n",
      "Annet\n",
      "Abd Al-Rashid HANIYA\n",
      "Golden Heart\n",
      "K\n",
      "Seely\n",
      "Samaila Danladieey\n",
      "Defi Highness\n",
      "Rick West\n",
      "ailisi\n",
      "Antonio Brown\n",
      "Goku Master\n",
      "Anjali Singh\n",
      "Reem\n",
      "Fatima\n",
      "Lacey\n",
      "AMIN SONIA\n",
      "Mahmoud\n",
      "BASHAR RIDA\n",
      "12 Monkeys\n",
      "Glory Anderson\n",
      "Farah Biba\n",
      "Sandra Dickson\n",
      "562 .\n",
      "Abhinay Mishra\n",
      "\n",
      "Looks\n",
      "Evelyn\n",
      "Dj BK\n",
      "Ал\n",
      "An exception occurred\n",
      "'charmap' codec can't encode characters in position 4-5: character maps to <undefined>\n",
      "Mahmoud\n",
      "O\n",
      "Ev\n",
      "Freya Tania\n",
      "SuperGirl\n",
      "Mad Low\n",
      "Audrey\n",
      "Kattan Ghislaine\n",
      "Sindhu\n",
      "Ideal Creator\n",
      "TIEPILOT Graphics & Arts\n",
      "Mohamed Ouardi\n",
      "MdP\n",
      "Project Manager\n",
      "CrypTine\n",
      "Bolt Digital Agency\n",
      "Michael\n",
      "Jacob\n",
      "luisa\n",
      "Gul_002\n",
      "Light Yagami\n",
      "BHAGIRATHSINH Nakum\n",
      "Cyra\n",
      "‘°ºø••.¸MuhammadYousuf¸.••øº°‘\n",
      "KAGEYAMA\n",
      "RAJA Srivstav\n",
      ".\n",
      "Anonymous\n",
      "salmon\n",
      "sonyar Roynos\n",
      "Fernandez\n",
      "Mayur Sakhare\n",
      "LAUREN WILSON\n",
      "Sérgio Rebelo\n",
      "Natalie Nicole Murray\n",
      "Bamzilee\n",
      "M M\n",
      "Prince\n",
      "Mohd Hidayath\n",
      "Lloyd Brighton\n",
      "Subomi\n",
      "Faisal Leizl\n",
      "Kamal Daswani\n",
      "Fernando Page\n",
      "No Tension\n",
      "Praveen\n",
      "Bouchard Henry\n",
      "Alfonso Sonai\n",
      "Ayan\n",
      "P. Mike\n",
      "Sonali Jain\n",
      "Siti Raya\n",
      "yaxin\n",
      "Error 404\n",
      "samsamsam\n",
      "Johanna\n",
      "Ana\n",
      "Sarah Noor Sneha\n",
      "Combot\n",
      "Angel\n",
      "Whitney\n"
     ]
    }
   ],
   "source": [
    "time.sleep(10)\n",
    "member_ul = driver.find_element(By.XPATH, '//*[@id=\"column-right\"]/div/div/div[2]/div/div/div[3]/div[2]/div[1]/div/ul')\n",
    "print(member_ul)\n",
    "time.sleep(2)\n",
    "members = member_ul.find_elements(By.CSS_SELECTOR, 'p.dialog-title')\n",
    "# print(members)\n",
    "print(len(members))\n",
    "# for i in range(len(members)):\n",
    "#     print(members[i].text)\n",
    "    \n",
    "with open('users.csv', mode='w') as members_file:\n",
    "    employee_writer = csv.writer(members_file, delimiter=',', quotechar='\"', quoting=csv.QUOTE_MINIMAL)\n",
    "    for i in range(len(members)):\n",
    "        print(members[i].text)\n",
    "        try:\n",
    "            employee_writer.writerow([str(i), members[i].text])\n",
    "        except Exception as Ex:\n",
    "            print(\"An exception occurred\")\n",
    "            print(Ex)\n",
    "\n",
    "    # employee_writer.writerow(['Erica Meyers', 'IT', 'March'])\n"
   ]
  },
  {
   "cell_type": "code",
   "execution_count": 67,
   "id": "9fb8a9f3-fd52-4961-adc9-f7073079be93",
   "metadata": {},
   "outputs": [],
   "source": [
    "time.sleep(2)\n",
    "back = driver.find_element(By.XPATH, '//*[@id=\"column-right\"]/div/div/div[1]/button')\n",
    "back.click()\n",
    "time.sleep(2)\n",
    "# cross = driver.find_element(By.XPATH, '//*[@id=\"column-right\"]/div/div/div[1]/button')\n",
    "# cross.click()\n",
    "back.click()\n",
    "time.sleep(3)"
   ]
  },
  {
   "cell_type": "markdown",
   "id": "967d1f46-edd7-44f0-83a2-f7e493dd2006",
   "metadata": {
    "tags": []
   },
   "source": [
    "## Scraping messages"
   ]
  },
  {
   "cell_type": "code",
   "execution_count": 68,
   "id": "ffa83759-2c82-4705-a92e-bdb12e0a44b0",
   "metadata": {},
   "outputs": [
    {
     "name": "stdout",
     "output_type": "stream",
     "text": [
      "Now the left of messages section is at 451.9921875 and we will scroll at 471\n"
     ]
    }
   ],
   "source": [
    "msg_scroll_start = 200\n",
    "msg_scroll_end = -1000\n",
    "msg_scroll_left = 400\n",
    "total_msgs_found = 0\n",
    "# satisfied variable will tell if the client is okay with total fetched messages or he wants to fetch more messages\n",
    "satisfied = False\n",
    "\n",
    "scroll_messages = driver.find_element(By.XPATH, '//*[@id=\"column-center\"]/div/div/div[3]/div')\n",
    "coordinates = driver.execute_script('return document.querySelector(\".bubbles-inner\").getBoundingClientRect()')\n",
    "# print(coordinates)\n",
    "# print(coordinates.get('left'))\n",
    "msg_scroll_left = int(coordinates.get('left')) + 20\n",
    "print(\"Now the left of messages section is at \" + str(coordinates.get('left')) + \" and we will scroll at \" + str(msg_scroll_left))"
   ]
  },
  {
   "cell_type": "code",
   "execution_count": 69,
   "id": "1b7e3e67-5028-45ab-8952-082634ee6b82",
   "metadata": {},
   "outputs": [],
   "source": [
    "msg_scroll_height = -3000\n",
    "def scroll_msgs(scrollY):\n",
    "    actions = ActionChains(driver)\n",
    "    actions.move_to_element(scroll_messages)\n",
    "    actions.key_up(Keys.CONTROL)\n",
    "    actions.scroll(msg_scroll_left, 200, 200, scrollY, 4, 'viewport')\n",
    "    actions.perform()\n",
    "\n",
    "# scroll_msgs(-5000)\n",
    "# time.sleep(5)\n",
    "# scroll_msgs(-10000)\n",
    "# time.sleep(5)\n",
    "# scroll_msgs(-15000)\n",
    "# time.sleep(5)\n",
    "# scroll_msgs(-20000)\n",
    "# time.sleep(5)\n",
    "# scroll_msg(msg_scroll_start, 200, 10, -1000, scroll_messages)"
   ]
  },
  {
   "cell_type": "code",
   "execution_count": 70,
   "id": "349fd3e1-5c7a-4eff-8c4f-85c736d624f2",
   "metadata": {},
   "outputs": [],
   "source": [
    "# count messages and update the number of messages found\n",
    "def count_msg():\n",
    "    global messages\n",
    "    messages = driver.find_elements(By.XPATH, \"//div[@class='message spoilers-container']\")\n",
    "    total_msgs_found = len(messages)\n",
    "    print('total_msgs_found ' + str(total_msgs_found))"
   ]
  },
  {
   "cell_type": "code",
   "execution_count": 71,
   "id": "d61c6a6d-7441-45be-9d1b-49e50d65056f",
   "metadata": {},
   "outputs": [],
   "source": [
    "# save messages\n",
    "def save():\n",
    "    with open('msg_file.csv', mode='w') as msg_file:\n",
    "        employee_writer = csv.writer(msg_file, delimiter=',', quotechar='\"', quoting=csv.QUOTE_MINIMAL)\n",
    "        print(total_msgs_found)\n",
    "        print(len(messages))\n",
    "        for i in range(total_msgs_found): \n",
    "            print(messages[i].text)\n",
    "            employee_writer.writerow([str(i), messages[i].text])\n",
    "\n",
    "# save()"
   ]
  },
  {
   "cell_type": "code",
   "execution_count": 72,
   "id": "4c8f6920-6ba0-43f3-98a4-584ca4d86ef5",
   "metadata": {},
   "outputs": [
    {
     "name": "stdout",
     "output_type": "stream",
     "text": [
      "False\n"
     ]
    },
    {
     "name": "stdin",
     "output_type": "stream",
     "text": [
      "Press any key to continue or press q to quit h\n"
     ]
    },
    {
     "name": "stdout",
     "output_type": "stream",
     "text": [
      "Loading\n",
      "-25000\n"
     ]
    },
    {
     "name": "stderr",
     "output_type": "stream",
     "text": [
      "C:\\Users\\PC\\AppData\\Local\\Temp\\ipykernel_7084\\3146182837.py:6: DeprecationWarning: scroll() has been deprecated, please use scroll_to_element(), scroll_by_amount() or scroll_from_origin().\n",
      "  actions.scroll(msg_scroll_left, 200, 200, scrollY, 4, 'viewport')\n"
     ]
    },
    {
     "name": "stdout",
     "output_type": "stream",
     "text": [
      "Scrolled\n",
      "total_msgs_found 22\n",
      "Counted Messages\n",
      "False\n"
     ]
    },
    {
     "name": "stdin",
     "output_type": "stream",
     "text": [
      "Press any key to continue or press q to quit u\n"
     ]
    },
    {
     "name": "stdout",
     "output_type": "stream",
     "text": [
      "Loading\n",
      "-35000\n",
      "Scrolled\n",
      "total_msgs_found 32\n",
      "Counted Messages\n",
      "False\n"
     ]
    },
    {
     "name": "stdin",
     "output_type": "stream",
     "text": [
      "Press any key to continue or press q to quit q\n"
     ]
    },
    {
     "name": "stdout",
     "output_type": "stream",
     "text": [
      "quitting...printing to csv file\n",
      "0\n",
      "32\n"
     ]
    }
   ],
   "source": [
    "msg_loader = -15000\n",
    "quit_msg = False\n",
    "while quit_msg==False:\n",
    "    msg_loader = msg_loader -10000\n",
    "    print(quit_msg)\n",
    "    input_V = input('Press any key to continue or press q to quit')\n",
    "    if input_V == 'q':\n",
    "        print(\"quitting...printing to csv file\")\n",
    "        save()\n",
    "        quit_msg = True\n",
    "    else: \n",
    "        print(\"Loading\")\n",
    "        print(msg_loader)\n",
    "        scroll_msgs(msg_loader)\n",
    "        time.sleep(10)\n",
    "        print(\"Scrolled\")\n",
    "        count_msg()\n",
    "        print(\"Counted Messages\")\n"
   ]
  },
  {
   "cell_type": "code",
   "execution_count": null,
   "id": "c5b0b79c-e668-4de8-9c1a-bad6b461961a",
   "metadata": {},
   "outputs": [],
   "source": []
  },
  {
   "cell_type": "code",
   "execution_count": 30,
   "id": "893c8e7c-a824-4153-9868-b001b862db32",
   "metadata": {},
   "outputs": [],
   "source": [
    "# write another function\n",
    "# which checks if we need to scroll or not\n",
    "# if we need to scroll call above function\n",
    "# it will actually wait 5 or 10 seconds\n",
    "# and will check the number of messages by len() function\n",
    "# it will take a previous number of msg \n",
    "# and if new len() >= prev length\n",
    "# then it will call above function\n",
    "# otherwise just skip to next step\n",
    "\n",
    "# def load_msgs():\n",
    "#     ans = input(\"Do you want to load more messages? Currently we have \"\n",
    "#         + str(total_msgs_found) + \n",
    "#         \" messages. Reply with y for yes and n for no\")\n",
    "#     if ans == 'y': \n",
    "#         print(\"Loading\")\n",
    "#         time.sleep(1)\n",
    "#         # scroll(msg_scroll_start, 200, 190, 30000, group_photo)\n",
    "#         scroll(msg_scroll_start, 200, 190, 30000, scroll_messages)\n",
    "#         time.sleep(1)\n",
    "#     elif ans =='n':\n",
    "#         print('Dont Load')\n",
    "#         satisfied = True\n",
    "#     else:\n",
    "#         print(\"Try again\")\n",
    "        \n",
    "# load_msgs()"
   ]
  },
  {
   "cell_type": "code",
   "execution_count": 31,
   "id": "e42afdd2-9129-4b7e-9d14-d3637899a1b6",
   "metadata": {},
   "outputs": [],
   "source": [
    "# def test():\n",
    "#     ans = input(\"Do you want to load more messages? Currently we have \"\n",
    "#         + str(total_msgs_found) + \n",
    "#         \" messages. Reply with y for yes and n for no\")\n",
    "#     if ans == 'y': \n",
    "#         print(\"Loading\")\n",
    "#         time.sleep(1)\n",
    "#         # scroll(msg_scroll_start, 200, 190, 30000, group_photo)\n",
    "#         scroll(msg_scroll_start, 200, 190, 30000, scroll_messages)\n",
    "#         time.sleep(1)\n",
    "#         satisfied = False\n",
    "#     elif ans = 'n':\n",
    "#         print('Dont Load')\n",
    "#         satisfied = True\n",
    "#     else:\n",
    "#         print(\"Try again\")\n",
    "#         satisfied = False\n",
    "#     return satisfied\n",
    "\n",
    "# while satisfied == False:\n",
    "#     # load_msgs()\n",
    "#     # count_msg()\n",
    "#     test()"
   ]
  },
  {
   "cell_type": "code",
   "execution_count": 32,
   "id": "17a316ab-eaa4-40dd-a062-b78e96a46bf1",
   "metadata": {},
   "outputs": [],
   "source": [
    "# while satisfied == False:\n",
    "#     load_msgs()\n",
    "#     count_msg()\n",
    "\n",
    "# for i in range(4):\n",
    "#     print(str(i))\n",
    "#     print(\"Executing...\")\n",
    "#     scroll(msg_scroll_start, 200, 190, -30000-(i*10000), scroll_messages)\n",
    "#     # load_msgs()\n",
    "#     count_msg()\n",
    "\n",
    "# time.sleep(5)\n",
    "# print(\"scrolling\")\n",
    "# scroll(msg_scroll_start, 200, 0, -3000, scroll_messages)\n",
    "# print(\"scrolled\")"
   ]
  },
  {
   "cell_type": "code",
   "execution_count": null,
   "id": "8517b817-34da-4142-b231-619fd57206fb",
   "metadata": {},
   "outputs": [],
   "source": []
  }
 ],
 "metadata": {
  "kernelspec": {
   "display_name": "Python 3 (ipykernel)",
   "language": "python",
   "name": "python3"
  },
  "language_info": {
   "codemirror_mode": {
    "name": "ipython",
    "version": 3
   },
   "file_extension": ".py",
   "mimetype": "text/x-python",
   "name": "python",
   "nbconvert_exporter": "python",
   "pygments_lexer": "ipython3",
   "version": "3.10.0"
  }
 },
 "nbformat": 4,
 "nbformat_minor": 5
}
